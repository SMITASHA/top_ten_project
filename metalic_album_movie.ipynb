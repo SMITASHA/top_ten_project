{
 "cells": [
  {
   "cell_type": "code",
   "execution_count": 1,
   "metadata": {},
   "outputs": [],
   "source": [
    "# Dependencies and Setup\n",
    "from bs4 import BeautifulSoup as bs\n",
    "import requests\n",
    "from splinter import Browser\n",
    "import pymongo\n",
    "import pandas as pd\n",
    "\n",
    "# For MAC Users\n",
    "#executable_path = {\"executable_path\": \"/usr/local/bin/chromedriver\"}\n",
    "# For Windows Users\n",
    "executable_path = {\"executable_path\": \"chromedriver\"}"
   ]
  },
  {
   "cell_type": "code",
   "execution_count": 2,
   "metadata": {},
   "outputs": [],
   "source": [
    "# for i in all_albums:\n",
    "    \n",
    "#     album=all_albums[i][\"title\"]\n",
    "#     album=all_albums[i][\"artist\"]\n",
    "#     title_query = album_title.replace(\" \", \"-\").lower()\n",
    "#     artist_query = album_artist.replace(\" \", \"-\").lower()\n",
    "\n",
    "#     url = f\"https://www.metacritic.com/music/{title_query}/{artist_query}\"\n",
    "#     print(url)\n",
    "#     all_albums[i]={**album_scraper(url),** all_albums[i]}\n",
    "    \n",
    "# Test Album Data\n",
    "album_title ='Reputation'\n",
    "album_artist = 'Taylor Swift'"
   ]
  },
  {
   "cell_type": "code",
   "execution_count": 3,
   "metadata": {},
   "outputs": [],
   "source": [
    "# Given the album title and artist, make it a query friendly string\n",
    "title_query = album_title.replace(\" \", \"-\").lower()\n",
    "artist_query = album_artist.replace(\" \", \"-\").lower()\n",
    "\n",
    "# Create a url to return the metacritic page for the specified albu\n",
    "url = f\"https://www.metacritic.com/music/{title_query}/{artist_query}\"\n",
    "\n",
    "\n"
   ]
  },
  {
   "cell_type": "code",
   "execution_count": 20,
   "metadata": {},
   "outputs": [
    {
     "name": "stdout",
     "output_type": "stream",
     "text": [
      "https://www.metacritic.com/music/reputation/taylor-swift\n",
      "7.6\n",
      "{'rev_count': 585, 'rev_avg': 7.6, ' album_img': 'https://static.metacritic.com/images/products/music/7/e92d15ff5c5621ceed00fa2b6055f81b-98.jpg'}\n"
     ]
    }
   ],
   "source": [
    "def album_scraper(url):\n",
    "\n",
    "    \"\"\"Scrapes given metacritic.com url for the album review information.\n",
    "    Returns a dictionary with full number of reviews and rating if so.\n",
    "\n",
    "    N.B. Must use splinter as requests returns a 504 error\"\"\"\n",
    "\n",
    "    # Open Amazon book url using Splinter  \n",
    "    # For MAC Users\n",
    "    #executable_path = {\"executable_path\": \"/usr/local/bin/chromedriver\"}\n",
    "    # For Windows Users\n",
    "    executable_path = {\"executable_path\": \"chromedriver\"}\n",
    "    with Browser(\"chrome\", **executable_path, headless=True) as browser:\n",
    "        browser.visit(url)\n",
    "        print (url)\n",
    "        # Create Beautiful soup object\n",
    "        soup = bs(browser.html, \"html.parser\")\n",
    "\n",
    "        #STAR\n",
    "\n",
    "        rev_avg_string = soup.find(\"div\", class_=\"metascore_w user large album positive\")\n",
    "\n",
    "\n",
    "        rev_avg = float(rev_avg_string.text.split(\" \")[0])\n",
    "        print (rev_avg)\n",
    "        count_soup=soup.find(\"div\",class_=\"module reviews_module user_reviews_module\")\n",
    "        rev_count_string=count_soup.find(\"span\",class_=\"count\")\n",
    "\n",
    "\n",
    "        rev_count = int(rev_count_string.text)\n",
    "        images=soup.find(\"div\",class_=\"product_image large_image\").find(\"img\",class_=\"product_image large_image\")\n",
    "\n",
    "        album_img=images['src']\n",
    "\n",
    "        # Return dictionary of book information\n",
    "        album_dict = {\"rev_count\": rev_count, \"rev_avg\": rev_avg,\" album_img\": album_img}\n",
    "        #print(album_dict)\n",
    "    return (album_dict)"
   ]
  },
  {
   "cell_type": "code",
   "execution_count": 32,
   "metadata": {},
   "outputs": [],
   "source": [
    "# Test Movie Data\n",
    "movie_title ='Avengers Infinity War'"
   ]
  },
  {
   "cell_type": "code",
   "execution_count": 33,
   "metadata": {},
   "outputs": [
    {
     "name": "stdout",
     "output_type": "stream",
     "text": [
      "https://www.metacritic.com/movie/avengers-infinity-war/user-reviews\n"
     ]
    }
   ],
   "source": [
    "# Given the album title and artist, make it a query friendly string\n",
    "movie_query = movie_title.replace(\" \", \"-\").lower()\n",
    "\n",
    "# Create a url to return the metacritic page for the specified albu\n",
    "url_movie = f\"https://www.metacritic.com/movie/{movie_query}/user-reviews\"\n",
    "print(url_movie)"
   ]
  },
  {
   "cell_type": "code",
   "execution_count": 48,
   "metadata": {},
   "outputs": [
    {
     "name": "stdout",
     "output_type": "stream",
     "text": [
      "https://www.metacritic.com/movie/avengers-infinity-war/user-reviews\n",
      "<div class=\"chart positive\" style=\"width:100%;\">\n",
      "<div class=\"bar positive\"></div>\n",
      "<div class=\"text oswald\">\n",
      "<div class=\"label fl\">Positive:</div>\n",
      "<div class=\"count fr\">2,674</div>\n",
      "<div class=\"clr\"></div>\n",
      "</div>\n",
      "</div>\n"
     ]
    },
    {
     "ename": "TypeError",
     "evalue": "'str' object cannot be interpreted as an integer",
     "output_type": "error",
     "traceback": [
      "\u001b[1;31m---------------------------------------------------------------------------\u001b[0m",
      "\u001b[1;31mTypeError\u001b[0m                                 Traceback (most recent call last)",
      "\u001b[1;32m<ipython-input-48-0bd848cfe581>\u001b[0m in \u001b[0;36m<module>\u001b[1;34m\u001b[0m\n\u001b[0;32m     30\u001b[0m \u001b[1;33m\u001b[0m\u001b[0m\n\u001b[0;32m     31\u001b[0m \u001b[1;33m\u001b[0m\u001b[0m\n\u001b[1;32m---> 32\u001b[1;33m     \u001b[0mrev_count\u001b[0m \u001b[1;33m=\u001b[0m \u001b[0mint\u001b[0m\u001b[1;33m(\u001b[0m\u001b[0mfloat\u001b[0m\u001b[1;33m,\u001b[0m\u001b[1;33m(\u001b[0m\u001b[0mrev_count_string\u001b[0m\u001b[1;33m.\u001b[0m\u001b[0mtext\u001b[0m\u001b[1;33m)\u001b[0m\u001b[1;33m)\u001b[0m\u001b[1;33m\u001b[0m\u001b[1;33m\u001b[0m\u001b[0m\n\u001b[0m\u001b[0;32m     33\u001b[0m \u001b[1;31m#         images=soup.find(\"div\",class_=\"product_image large_image\").find(\"img\",class_=\"product_image large_image\")\u001b[0m\u001b[1;33m\u001b[0m\u001b[1;33m\u001b[0m\u001b[1;33m\u001b[0m\u001b[0m\n\u001b[0;32m     34\u001b[0m \u001b[1;33m\u001b[0m\u001b[0m\n",
      "\u001b[1;31mTypeError\u001b[0m: 'str' object cannot be interpreted as an integer"
     ]
    }
   ],
   "source": [
    "# def movie_scraper(url):\n",
    "\n",
    "\"\"\"Scrapes given metacritic.com url for the album review information.\n",
    "Returns a dictionary with full number of reviews and rating if so.\n",
    "\n",
    "N.B. Must use splinter as requests returns a 504 error\"\"\"\n",
    "\n",
    "# Open  url using Splinter  \n",
    "# For MAC Users\n",
    "#executable_path = {\"executable_path\": \"/usr/local/bin/chromedriver\"}\n",
    "# For Windows Users\n",
    "executable_path = {\"executable_path\": \"chromedriver\"}\n",
    "with Browser(\"chrome\", **executable_path, headless=True) as browser:\n",
    "    browser.visit(url_movie)\n",
    "    print (url_movie)\n",
    "    # Create Beautiful soup object\n",
    "    soup = bs(browser.html, \"html.parser\")\n",
    "\n",
    "    #STAR ---- cannot figure\n",
    "#     div_soup=soup.find(\"div\",class_=\"left inset_right2\")\n",
    "#     print (div_soup)\n",
    "#     rev_avg_string = div_soup.find(\"div\", class_=\"metascore_w user larger movie positive\")\n",
    "\n",
    "#     print (rev_avg_string )\n",
    "#     rev_avg = float(rev_avg_string.text)\n",
    "\n",
    "    count_soup=soup.find(\"div\",class_=\"chart positive\")\n",
    "    #print (count_soup)\n",
    "    rev_count_string=count_soup.find(\"div\",class_=\"count fr\")\n",
    "\n",
    "    print (rev_count_string)\n",
    "    rev_count = int(float,(rev_count_string.text))\n",
    "#         images=soup.find(\"div\",class_=\"product_image large_image\").find(\"img\",class_=\"product_image large_image\")\n",
    "\n",
    "#         album_img=images['src']\n",
    "\n",
    "# Return dictionary of book information\n",
    "#     album_dict = {\"rev_count\": rev_count, \"rev_avg\": rev_avg}\n",
    "    album_dict = {\"rev_count\": rev_count}\n",
    "    print(album_dict)\n",
    "#     return (album_dict)"
   ]
  },
  {
   "cell_type": "code",
   "execution_count": null,
   "metadata": {},
   "outputs": [],
   "source": []
  }
 ],
 "metadata": {
  "kernelspec": {
   "display_name": "Python (PythonData)",
   "language": "python",
   "name": "pythondata"
  },
  "language_info": {
   "codemirror_mode": {
    "name": "ipython",
    "version": 3
   },
   "file_extension": ".py",
   "mimetype": "text/x-python",
   "name": "python",
   "nbconvert_exporter": "python",
   "pygments_lexer": "ipython3",
   "version": "3.7.3"
  }
 },
 "nbformat": 4,
 "nbformat_minor": 2
}
