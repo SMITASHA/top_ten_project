{
 "cells": [
  {
   "cell_type": "code",
   "execution_count": 1,
   "metadata": {},
   "outputs": [],
   "source": [
    "# Dependencies and Setup\n",
    "from bs4 import BeautifulSoup as bs\n",
    "import requests\n",
    "from splinter import Browser\n",
    "import pymongo\n",
    "import pandas as pd\n",
    "\n",
    "# For MAC Users\n",
    "#executable_path = {\"executable_path\": \"/usr/local/bin/chromedriver\"}\n",
    "# For Windows Users\n",
    "executable_path = {\"executable_path\": \"chromedriver\"}"
   ]
  },
  {
   "cell_type": "code",
   "execution_count": 2,
   "metadata": {},
   "outputs": [],
   "source": [
    "# for i in all_albums:\n",
    "    \n",
    "#     album=all_albums[i][\"title\"]\n",
    "#     album=all_albums[i][\"artist\"]\n",
    "#     title_query = album_title.replace(\" \", \"-\").lower()\n",
    "#     artist_query = album_artist.replace(\" \", \"-\").lower()\n",
    "\n",
    "#     url = f\"https://www.metacritic.com/music/{title_query}/{artist_query}\"\n",
    "#     print(url)\n",
    "#     all_albums[i]={**album_scraper(url),** all_albums[i]}\n",
    "    \n",
    "# Test Album Data\n",
    "album_title ='Reputation'\n",
    "album_artist = 'Taylor Swift'"
   ]
  },
  {
   "cell_type": "code",
   "execution_count": 61,
   "metadata": {},
   "outputs": [],
   "source": [
    "# Given the album title and artist, make it a query friendly string\n",
    "title_query = album_title.replace(\" \", \"-\").lower()\n",
    "artist_query = album_artist.replace(\" \", \"-\").lower()\n",
    "\n",
    "# Create a url to return the metacritic page for the specified albu\n",
    "url = f\"https://www.metacritic.com/music/{title_query}/{artist_query}\"\n",
    "\n",
    "\n"
   ]
  },
  {
   "cell_type": "code",
   "execution_count": 68,
   "metadata": {},
   "outputs": [],
   "source": [
    "def album_craper(url):\n",
    "\n",
    "    \"\"\"Scrapes given metacritic.com url for the album review information.\n",
    "    Returns a dictionary with full number of reviews and rating if so.\n",
    "\n",
    "    N.B. Must use splinter as requests returns a 504 error\"\"\"\n",
    "\n",
    "    # Open Amazon book url using Splinter  \n",
    "    # For MAC Users\n",
    "    #executable_path = {\"executable_path\": \"/usr/local/bin/chromedriver\"}\n",
    "    # For Windows Users\n",
    "    executable_path = {\"executable_path\": \"chromedriver\"}\n",
    "    with Browser(\"chrome\", **executable_path, headless=True) as browser:\n",
    "        browser.visit(url)\n",
    "        print (url)\n",
    "        # Create Beautiful soup object\n",
    "        soup = bs(browser.html, \"html.parser\")\n",
    "\n",
    "        #STAR\n",
    "\n",
    "        rev_avg_string = soup.find(\"div\", class_=\"metascore_w user large album positive\")\n",
    "\n",
    "\n",
    "        rev_avg_user = float(rev_avg_string.text.split(\" \")[0])\n",
    "        rev_avg_cretic_soup=soup.find(\"div\",class_=\"metascore_w xlarge album positive\")\n",
    "        rev_avg_critic_string=rev_avg_critic_soup.find(\"span\",itemprop=\"ratingValue\")\n",
    "        rev_avg_critic = float(rev_avg_critic_string.text)\n",
    "    #     print (rev_avg_critic)\n",
    "        count_soup=soup.find(\"div\",class_=\"module reviews_module user_reviews_module\")\n",
    "        rev_count_string=count_soup.find(\"span\",class_=\"count\")\n",
    "        count_soup_user=soup.find(\"div\",class_=\"module reviews_module critic_reviews_module\")\n",
    "        rev_count_critic_string=count_soup_user.find(\"span\",class_=\"count\")\n",
    "        rev_count_user = int(rev_count_string.text)\n",
    "        rev_count_critic=int(rev_count_critic_string.text)\n",
    "    #     print(rev_count_critic)\n",
    "        images=soup.find(\"div\",class_=\"product_image large_image\").find(\"img\",class_=\"product_image large_image\")\n",
    "\n",
    "        album_img=images['src']\n",
    "\n",
    "        # Return dictionary of book information\n",
    "        album_dict = {\"rev_count_user\": rev_count_user, \"rev_avg_user\": rev_avg_user,\"rev_count_critic\": rev_count_critic, \"rev_avg_critic\": rev_avg_critic,\"album_img\": album_img}\n",
    "\n",
    "\n",
    "    #     print(album_dict)\n",
    "        return (album_dict)"
   ]
  },
  {
   "cell_type": "code",
   "execution_count": 57,
   "metadata": {},
   "outputs": [],
   "source": [
    "# Test Movie Data\n",
    "movie_title ='Avengers Infinity War'"
   ]
  },
  {
   "cell_type": "code",
   "execution_count": 58,
   "metadata": {},
   "outputs": [
    {
     "name": "stdout",
     "output_type": "stream",
     "text": [
      "https://www.metacritic.com/movie/avengers-infinity-war/details\n"
     ]
    }
   ],
   "source": [
    "# Given the movie title, make it a query friendly string\n",
    "movie_query = movie_title.replace(\" \", \"-\").lower()\n",
    "\n",
    "# Create a url to return the metacritic page for the specified movie\n",
    "url_movie = f\"https://www.metacritic.com/movie/{movie_query}/details\"\n",
    "print(url_movie)"
   ]
  },
  {
   "cell_type": "code",
   "execution_count": 59,
   "metadata": {},
   "outputs": [],
   "source": [
    "def movie_scraper(url):\n",
    "\n",
    "    \"\"\"Scrapes given metacritic.com url for the album review information.\n",
    "    Returns a dictionary with full number of reviews and rating if so.\"\"\"\n",
    "\n",
    "    # Open  url using Splinter  \n",
    "    # For MAC Users\n",
    "    #executable_path = {\"executable_path\": \"/usr/local/bin/chromedriver\"}\n",
    "    # For Windows Users\n",
    "    executable_path = {\"executable_path\": \"chromedriver\"}\n",
    "    with Browser(\"chrome\", **executable_path, headless=True) as browser:\n",
    "        browser.visit(url_movie)\n",
    "        print (url_movie)\n",
    "        # Create Beautiful soup object\n",
    "        soup = bs(browser.html, \"html.parser\")\n",
    "\n",
    "    # Find number of reviews from users and critics\n",
    "    rev_count_strings = soup.find_all(\"span\", class_=\"based_on\")\n",
    "    user_rev_count = int(rev_count_strings[1].text.split(\" \")[2])\n",
    "    critic_rev_count = int(rev_count_strings[0].text.split(\" \")[2])\n",
    "\n",
    "    # Find review average from users and rating score from critics\n",
    "    user_rev_avg = float(soup.find(\"span\", class_=\"metascore_w user larger movie positive\").text)\n",
    "    critic_rev_score = int(soup.find(\"span\", class_=\"metascore_w larger movie positive\").text)\n",
    "\n",
    "    # Return dictionary of book information\n",
    "    movie_dict = {\"user_rev_count\": user_rev_count, \"user_rev_avg\": user_rev_avg, \"critic_rev_count\": critic_rev_count, \"critic_rev_score\": critic_rev_score}\n",
    "#     print(movie_dict)\n",
    "    return(movie_dict)"
   ]
  },
  {
   "cell_type": "code",
   "execution_count": null,
   "metadata": {},
   "outputs": [],
   "source": []
  }
 ],
 "metadata": {
  "kernelspec": {
   "display_name": "Python (PythonData)",
   "language": "python",
   "name": "pythondata"
  },
  "language_info": {
   "codemirror_mode": {
    "name": "ipython",
    "version": 3
   },
   "file_extension": ".py",
   "mimetype": "text/x-python",
   "name": "python",
   "nbconvert_exporter": "python",
   "pygments_lexer": "ipython3",
   "version": "3.7.3"
  }
 },
 "nbformat": 4,
 "nbformat_minor": 2
}
