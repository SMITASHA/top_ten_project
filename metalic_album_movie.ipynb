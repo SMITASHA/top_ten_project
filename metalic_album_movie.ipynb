{
 "cells": [
  {
   "cell_type": "code",
   "execution_count": 1,
   "metadata": {},
   "outputs": [],
   "source": [
    "# Dependencies and Setup\n",
    "from bs4 import BeautifulSoup as bs\n",
    "import requests\n",
    "from splinter import Browser\n",
    "import pymongo\n",
    "import pandas as pd"
   ]
  },
  {
   "cell_type": "code",
   "execution_count": 3,
   "metadata": {},
   "outputs": [],
   "source": [
    "# for i in all_albums:\n",
    "    \n",
    "#     album=all_albums[i][\"title\"]\n",
    "#     album=all_albums[i][\"artist\"]\n",
    "#     title_query = album_title.replace(\" \", \"-\").lower()\n",
    "#     artist_query = album_artist.replace(\" \", \"-\").lower()\n",
    "\n",
    "#     url = f\"https://www.metacritic.com/music/{title_query}/{artist_query}\"\n",
    "#     print(url)\n",
    "#     all_albums[i]={**album_scraper(url),** all_albums[i]}\n",
    "    \n",
    "# Test Album Data\n",
    "album_title ='Reputation'\n",
    "album_artist = 'Taylor Swift'"
   ]
  },
  {
   "cell_type": "code",
   "execution_count": null,
   "metadata": {},
   "outputs": [],
   "source": []
  },
  {
   "cell_type": "code",
   "execution_count": 17,
   "metadata": {},
   "outputs": [],
   "source": [
    "# Given the album title and artist, make it a query friendly string\n",
    "title_query = album_title.replace(\" \", \"-\").lower()\n",
    "artist_query = album_artist.replace(\" \", \"-\").lower()\n",
    "\n",
    "# Create a url to return the metacritic page for the specified albu\n",
    "url = f\"https://www.metacritic.com/music/{title_query}/{artist_query}\""
   ]
  },
  {
   "cell_type": "code",
   "execution_count": 5,
   "metadata": {},
   "outputs": [
    {
     "name": "stdout",
     "output_type": "stream",
     "text": [
      "https://www.metacritic.com/music/reputation/taylor-swift\n"
     ]
    },
    {
     "ename": "NameError",
     "evalue": "name 'album_scraper' is not defined",
     "output_type": "error",
     "traceback": [
      "\u001b[0;31m---------------------------------------------------------------------------\u001b[0m",
      "\u001b[0;31mNameError\u001b[0m                                 Traceback (most recent call last)",
      "\u001b[0;32m<ipython-input-5-dbe01c5ce359>\u001b[0m in \u001b[0;36m<module>\u001b[0;34m\u001b[0m\n\u001b[1;32m     21\u001b[0m \u001b[0mprint\u001b[0m\u001b[0;34m(\u001b[0m\u001b[0murl\u001b[0m\u001b[0;34m)\u001b[0m\u001b[0;34m\u001b[0m\u001b[0;34m\u001b[0m\u001b[0m\n\u001b[1;32m     22\u001b[0m \u001b[0malbum_dict_final\u001b[0m\u001b[0;34m=\u001b[0m\u001b[0;34m{\u001b[0m\u001b[0;34m}\u001b[0m\u001b[0;34m\u001b[0m\u001b[0;34m\u001b[0m\u001b[0m\n\u001b[0;32m---> 23\u001b[0;31m \u001b[0malbum_dict_final\u001b[0m\u001b[0;34m**=\u001b[0m\u001b[0malbum_scraper\u001b[0m\u001b[0;34m(\u001b[0m\u001b[0murl\u001b[0m\u001b[0;34m)\u001b[0m\u001b[0;34m\u001b[0m\u001b[0;34m\u001b[0m\u001b[0m\n\u001b[0m\u001b[1;32m     24\u001b[0m \u001b[0mprint\u001b[0m \u001b[0;34m(\u001b[0m\u001b[0malbum_dict_final\u001b[0m\u001b[0;34m)\u001b[0m\u001b[0;34m\u001b[0m\u001b[0;34m\u001b[0m\u001b[0m\n\u001b[1;32m     25\u001b[0m \u001b[0;34m\u001b[0m\u001b[0m\n",
      "\u001b[0;31mNameError\u001b[0m: name 'album_scraper' is not defined"
     ]
    }
   ],
   "source": [
    "#def albums_url(*all_albums):\n",
    "    \n",
    "    #     album=all_albums[i][\"title\"]\n",
    "#     album=all_albums[i][\"artist\"]\n",
    "#     title_query = album_title.replace(\" \", \"-\").lower()\n",
    "#     artist_query = album_artist.replace(\" \", \"-\").lower()\n",
    "\n",
    "#     url = f\"https://www.metacritic.com/music/{title_query}/{artist_query}\"\n",
    "#     print(url)\n",
    "#     all_albums[i]={**album_scraper(url),** all_albums[i]}\n",
    "    \n",
    "# Test Album Data\n",
    "album_title ='Reputation'\n",
    "album_artist = 'Taylor Swift'\n",
    "# Given the album title and artist, make it a query friendly string\n",
    "title_query = album_title.replace(\" \", \"-\").lower()\n",
    "artist_query = album_artist.replace(\" \", \"-\").lower()\n",
    "\n",
    "# Create a url to return the metacritic page for the specified albu\n",
    "url = f\"https://www.metacritic.com/music/{title_query}/{artist_query}\"\n",
    "print(url)\n",
    "album_dict_final={}\n",
    "album_dict_final**=album_scraper(url)\n",
    "print (album_dict_final)\n",
    "    "
   ]
  },
  {
   "cell_type": "code",
   "execution_count": 21,
   "metadata": {},
   "outputs": [],
   "source": [
    "def album_scraper(url):\n",
    "\n",
    "    \"\"\"Scrapes given metacritic.com url for the album review information.\n",
    "        Returns a dictionary with number of user reviews, average user review, number of critic reviews, and critic score\"\"\"\n",
    "\n",
    "    # for mac:\n",
    "    #executable_path = {\"executable_path\": \"/usr/local/bin/chromedriver\"}\n",
    "    # For Windows Users\n",
    "    executable_path = {\"executable_path\": \"chromedriver\"}\n",
    "\n",
    "    # Use splinter and beautiful soup to parse given url   \n",
    "    with Browser(\"chrome\", **executable_path, headless=True) as browser:\n",
    "        browser.visit(url)\n",
    "        soup = bs(browser.html, \"html.parser\")\n",
    "    \n",
    "    # Find review average from users and rating score from critics\n",
    "    review_soup = soup.find_all(\"a\", class_=\"metascore_anchor\")\n",
    "    user_rev_avg = float(review_soup[1].text)\n",
    "    critic_rev_score = int(review_soup[0].text)\n",
    "\n",
    "    # Find number of user reviews\n",
    "    count_soup = soup.find(\"div\",class_=\"module reviews_module user_reviews_module\")\n",
    "    user_rev_count_string = count_soup.find(\"span\",class_=\"count\")\n",
    "    user_rev_count = int(user_rev_count_string.text)\n",
    "\n",
    "    # Find number of critic reviews\n",
    "    critic_rev_count_string = count_soup.find(\"span\",class_=\"count\")\n",
    "    critic_rev_count = int(critic_rev_count_string.text)\n",
    "\n",
    "    # Return dictionary of album information\n",
    "    album_dict = {\"user_rev_count\": user_rev_count, \"user_rev_avg\": user_rev_avg, \"critic_rev_count\": critic_rev_count, \"critic_rev_score\": critic_rev_score}\n",
    "  \n",
    "    return (album_dict)"
   ]
  },
  {
   "cell_type": "code",
   "execution_count": 22,
   "metadata": {},
   "outputs": [],
   "source": [
    "x = album_scraper(url)"
   ]
  },
  {
   "cell_type": "code",
   "execution_count": 23,
   "metadata": {},
   "outputs": [
    {
     "data": {
      "text/plain": [
       "{'user_rev_count': 585,\n",
       " 'user_rev_avg': 7.6,\n",
       " 'critic_rev_count': 585,\n",
       " 'critic_rev_score': 71}"
      ]
     },
     "execution_count": 23,
     "metadata": {},
     "output_type": "execute_result"
    }
   ],
   "source": [
    "x"
   ]
  },
  {
   "cell_type": "code",
   "execution_count": 24,
   "metadata": {},
   "outputs": [],
   "source": [
    "# Test Movie Data\n",
    "movie_title ='Mama Mia'"
   ]
  },
  {
   "cell_type": "code",
   "execution_count": 25,
   "metadata": {},
   "outputs": [
    {
     "name": "stdout",
     "output_type": "stream",
     "text": [
      "https://www.metacritic.com/movie/mama-mia/details\n"
     ]
    }
   ],
   "source": [
    "# Given the movie title, make it a query friendly string\n",
    "movie_query = movie_title.replace(\" \", \"-\").lower()\n",
    "\n",
    "# Create a url to return the metacritic page for the specified movie\n",
    "url_movie = f\"https://www.metacritic.com/movie/{movie_query}/details\"\n",
    "print(url_movie)"
   ]
  },
  {
   "cell_type": "code",
   "execution_count": 13,
   "metadata": {},
   "outputs": [],
   "source": [
    "def movie_scraper(url):\n",
    "\n",
    "    \"\"\"Scrapes given metacritic.com url for the movie review information.\n",
    "    Returns a dictionary with number of user reviews, average user review, number of critic reviews, and critic score\"\"\"\n",
    "     \n",
    "    # for mac:\n",
    "    executable_path = {\"executable_path\": \"/usr/local/bin/chromedriver\"}\n",
    "    # For Windows Users\n",
    "    #executable_path = {\"executable_path\": \"chromedriver\"}\n",
    "    \n",
    "    # Use splinter and beautiful soup to parse given url\n",
    "    with Browser(\"chrome\", **executable_path, headless=True) as browser:\n",
    "        browser.visit(url)\n",
    "        soup = bs(browser.html, \"html.parser\")\n",
    "\n",
    "    # Find number of reviews from users and critics\n",
    "    rev_count_strings = soup.find_all(\"span\", class_=\"based_on\")\n",
    "    user_rev_count = int(rev_count_strings[1].text.split(\" \")[2])\n",
    "    critic_rev_count = int(rev_count_strings[0].text.split(\" \")[2])\n",
    "    \n",
    "    # Find review average from users and rating score from critics\n",
    "    review_soup = soup.find_all(\"a\", class_=\"metascore_anchor\")\n",
    "    user_rev_avg = float(review_soup[1].text)\n",
    "    critic_rev_score = int(review_soup[0].text)\n",
    "\n",
    "    # Return dictionary of book information\n",
    "    movie_dict = {\"user_rev_count\": user_rev_count, \"user_rev_avg\": user_rev_avg, \"critic_rev_count\": critic_rev_count, \"critic_rev_score\": critic_rev_score}\n",
    "    return(movie_dict)"
   ]
  },
  {
   "cell_type": "code",
   "execution_count": 14,
   "metadata": {},
   "outputs": [],
   "source": [
    "x = movie_scraper(url_movie)"
   ]
  },
  {
   "cell_type": "code",
   "execution_count": 15,
   "metadata": {},
   "outputs": [
    {
     "data": {
      "text/plain": [
       "{'user_rev_count': 1229,\n",
       " 'user_rev_avg': 5.4,\n",
       " 'critic_rev_count': 40,\n",
       " 'critic_rev_score': 65}"
      ]
     },
     "execution_count": 15,
     "metadata": {},
     "output_type": "execute_result"
    }
   ],
   "source": [
    "x"
   ]
  },
  {
   "cell_type": "code",
   "execution_count": null,
   "metadata": {},
   "outputs": [],
   "source": []
  }
 ],
 "metadata": {
  "kernelspec": {
   "display_name": "PythonData",
   "language": "python",
   "name": "pythondata"
  },
  "language_info": {
   "codemirror_mode": {
    "name": "ipython",
    "version": 3
   },
   "file_extension": ".py",
   "mimetype": "text/x-python",
   "name": "python",
   "nbconvert_exporter": "python",
   "pygments_lexer": "ipython3",
   "version": "3.7.3"
  }
 },
 "nbformat": 4,
 "nbformat_minor": 2
}
