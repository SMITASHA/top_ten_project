{
 "cells": [
  {
   "cell_type": "code",
   "execution_count": 28,
   "metadata": {},
   "outputs": [],
   "source": [
    "# Dependencies and Setup\n",
    "from bs4 import BeautifulSoup as bs\n",
    "import requests\n",
    "from splinter import Browser\n",
    "import pymongo\n",
    "import pandas as pd"
   ]
  },
  {
   "cell_type": "code",
   "execution_count": 5,
   "metadata": {},
   "outputs": [],
   "source": [
    "\n",
    "for i in all_albums:\n",
    "    \n",
    "    album=all_albums[i][\"title\"]\n",
    "    #https://www.amazon.com/s?k=Heartbreak+on+a+full+moon&i=digital-music&ref=nb_sb_noss_2\n",
    "    url=f\"https://www.amazon.com/s?k={album}&i=digital-music&ref=nb_sb_noss_2\"\n",
    "    print(url)\n",
    "    all_albums[i]={**album_scraper(url),** all_albums[i]}\n",
    "    \n",
    "# album='Heartbreak on a Full Moon'\n"
   ]
  },
  {
   "cell_type": "code",
   "execution_count": 29,
   "metadata": {},
   "outputs": [
    {
     "name": "stdout",
     "output_type": "stream",
     "text": [
      "https://www.amazon.com/s?k=Heartbreak on a Full Moon&i=digital-music&ref=nb_sb_noss_2\n"
     ]
    }
   ],
   "source": [
    "#Creating a URL based on Album name\n",
    "# url=f\"https://www.amazon.com/{album}/dp/B075ZDV43X/ref=ntt_mus_ep_dpi_1\"\n",
    "album='Heartbreak on a Full Moon'\n",
    "url=f\"https://www.amazon.com/s?k={album}&i=digital-music&ref=nb_sb_noss_2\"\n",
    "print(url)\n"
   ]
  },
  {
   "cell_type": "code",
   "execution_count": 27,
   "metadata": {},
   "outputs": [
    {
     "name": "stdout",
     "output_type": "stream",
     "text": [
      "{'rev_count': 150, 'rev_avg': 4.8, ' album_img': 'https://images-na.ssl-images-amazon.com/images/I/718WLgELK3L._SX355_.jpg'}\n"
     ]
    }
   ],
   "source": [
    "def album_scraper(url):\n",
    "    \n",
    "    \"\"\"Scrapes given Amazon url for the album review information.\n",
    "    Returns a dictionary with full number of reviews and rating if so.\n",
    "\n",
    "    N.B. Must use splinter as requests returns a 504 error\"\"\"\n",
    "\n",
    "    # Open Amazon book url using Splinter  \n",
    "    # For MAC Users\n",
    "    #executable_path = {\"executable_path\": \"/usr/local/bin/chromedriver\"}\n",
    "    # For Windows Users\n",
    "    executable_path = {\"executable_path\": \"chromedriver\"}\n",
    "    with Browser(\"chrome\", **executable_path, headless=True) as browser:\n",
    "        browser.visit(url)\n",
    "\n",
    "        # Create Beautiful soup object\n",
    "        soup = bs(browser.html, \"html.parser\")\n",
    "\n",
    "        #STAR\n",
    "\n",
    "        rev_avg_string = soup.find(\"span\", class_=\"a-icon-alt\")\n",
    "\n",
    "\n",
    "        rev_avg = float(rev_avg_string.text.split(\" \")[0])\n",
    "\n",
    "\n",
    "        rev_count_string=soup.find(\"span\",id=\"acrCustomerReviewText\")\n",
    "\n",
    "\n",
    "        rev_count = int(rev_count_string.text.split(\" \")[0])\n",
    "\n",
    "        images=soup.find(\"div\",id=\"imgTagWrapperId\").find(\"img\")\n",
    "\n",
    "        album_img=images['src']\n",
    "\n",
    "        # Return dictionary of book information\n",
    "        album_dict = {\"rev_count\": rev_count, \"rev_avg\": rev_avg,\" album_img\": album_img}\n",
    "    return (album_dict)"
   ]
  },
  {
   "cell_type": "code",
   "execution_count": null,
   "metadata": {},
   "outputs": [],
   "source": []
  }
 ],
 "metadata": {
  "kernelspec": {
   "display_name": "Python (PythonData)",
   "language": "python",
   "name": "pythondata"
  },
  "language_info": {
   "codemirror_mode": {
    "name": "ipython",
    "version": 3
   },
   "file_extension": ".py",
   "mimetype": "text/x-python",
   "name": "python",
   "nbconvert_exporter": "python",
   "pygments_lexer": "ipython3",
   "version": "3.7.3"
  }
 },
 "nbformat": 4,
 "nbformat_minor": 2
}
