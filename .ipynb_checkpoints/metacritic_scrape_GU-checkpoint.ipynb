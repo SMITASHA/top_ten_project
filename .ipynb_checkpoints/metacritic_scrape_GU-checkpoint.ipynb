{
 "cells": [
  {
   "cell_type": "code",
   "execution_count": 1,
   "metadata": {},
   "outputs": [],
   "source": [
    "# Dependencies and Setup\n",
    "from bs4 import BeautifulSoup as bs\n",
    "import requests\n",
    "from splinter import Browser\n",
    "import pymongo\n",
    "import pandas as pd\n",
    "\n",
    "# For MAC Users\n",
    "#executable_path = {\"executable_path\": \"/usr/local/bin/chromedriver\"}\n",
    "# For Windows Users\n",
    "executable_path = {\"executable_path\": \"chromedriver\"}"
   ]
  },
  {
   "cell_type": "code",
   "execution_count": 2,
   "metadata": {},
   "outputs": [],
   "source": [
    "# Test Album Data\n",
    "album_title ='Reputation'\n",
    "album_artist = 'Taylor Swift'"
   ]
  },
  {
   "cell_type": "code",
   "execution_count": 3,
   "metadata": {},
   "outputs": [],
   "source": [
    "# Given the album title and artist, make it a query friendly string\n",
    "title_query = album_title.replace(\" \", \"-\").lower()\n",
    "artist_query = album_artist.replace(\" \", \"-\").lower()\n",
    "\n",
    "# Create a url to return the metacritic page for the specified albu\n",
    "url = f\"https://www.metacritic.com/music/{title_query}/{artist_query}\"\n",
    "\n",
    "# Create a browser object using splinter and a soup object of that page using BeautifulSoup\n",
    "with Browser(\"chrome\", **executable_path, headless=True) as browser:\n",
    "    browser.visit(url)\n",
    "    soup = bs(browser.html, \"html.parser\")"
   ]
  },
  {
   "cell_type": "code",
   "execution_count": null,
   "metadata": {},
   "outputs": [],
   "source": [
    "# Next step: get metascore and # of critics and/or user score and ratings\n",
    "\n",
    "#album_score = soup.find(parameters)\n",
    "\n",
    "#album_critics_no = soup.find(parameters)\n",
    "\n",
    "#album_dict = {\"album_score\": album_score, \"album_critics_no\": album_critics_no}"
   ]
  },
  {
   "cell_type": "code",
   "execution_count": 2,
   "metadata": {},
   "outputs": [],
   "source": [
    "# Test Movie Data\n",
    "movie_title ='Avengers Infinity War'"
   ]
  },
  {
   "cell_type": "code",
   "execution_count": 3,
   "metadata": {},
   "outputs": [],
   "source": [
    "# Given the album title and artist, make it a query friendly string\n",
    "movie_query = movie_title.replace(\" \", \"-\").lower()\n",
    "\n",
    "# Create a url to return the metacritic page for the specified albu\n",
    "url = f\"https://www.metacritic.com/movie/{movie_query}\"\n",
    "\n",
    "# Create a browser object using splinter and a soup object of that page using BeautifulSoup\n",
    "with Browser(\"chrome\", **executable_path, headless=True) as browser:\n",
    "    browser.visit(url)\n",
    "    soup = bs(browser.html, \"html.parser\")"
   ]
  },
  {
   "cell_type": "code",
   "execution_count": 5,
   "metadata": {},
   "outputs": [],
   "source": [
    "# Next step: get metascore and # of critics and/or user score and ratings\n",
    "\n",
    "# movie_score = soup.find(parameters)\n",
    "\n",
    "# movie_critics_no = soup.find(parameters)\n",
    "\n",
    "# movie_dict = {\"movie_score\": movie_score, \"movie_critics_no\": movie_critics_no}"
   ]
  },
  {
   "cell_type": "code",
   "execution_count": null,
   "metadata": {},
   "outputs": [],
   "source": []
  }
 ],
 "metadata": {
  "kernelspec": {
   "display_name": "Python (PythonData)",
   "language": "python",
   "name": "pythondata"
  },
  "language_info": {
   "codemirror_mode": {
    "name": "ipython",
    "version": 3
   },
   "file_extension": ".py",
   "mimetype": "text/x-python",
   "name": "python",
   "nbconvert_exporter": "python",
   "pygments_lexer": "ipython3",
   "version": "3.7.3"
  }
 },
 "nbformat": 4,
 "nbformat_minor": 2
}
